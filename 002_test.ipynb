{
 "cells": [
  {
   "cell_type": "code",
   "execution_count": 15,
   "metadata": {},
   "outputs": [
    {
     "name": "stdout",
     "output_type": "stream",
     "text": [
      "['Whitney 0', 'Aretha 1', 'CeCe 2'] [0, 1, 2]\n"
     ]
    }
   ],
   "source": [
    "singers = ['Whitney', 'Aretha', 'CeCe', 'JHud']\n",
    "family_names = ['Houston', 'Franklin', 'Winans', 'Hudson']\n",
    "candidates = []\n",
    "indexNumber = []\n",
    "\n",
    "for each in singers:\n",
    "    if len(each) >= 4 and each[0] != \"J\":\n",
    "        z = singers.index(each)\n",
    "        indexNumber.append(z)\n",
    "        candidates.append(each + ' ' + str(z))\n",
    "\n",
    "print(candidates, indexNumber)"
   ]
  },
  {
   "cell_type": "code",
   "execution_count": null,
   "metadata": {},
   "outputs": [],
   "source": []
  }
 ],
 "metadata": {
  "kernelspec": {
   "display_name": "Python 3",
   "language": "python",
   "name": "python3"
  },
  "language_info": {
   "codemirror_mode": {
    "name": "ipython",
    "version": 3
   },
   "file_extension": ".py",
   "mimetype": "text/x-python",
   "name": "python",
   "nbconvert_exporter": "python",
   "pygments_lexer": "ipython3",
   "version": "3.7.4"
  }
 },
 "nbformat": 4,
 "nbformat_minor": 5
}
