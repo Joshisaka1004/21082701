{
 "cells": [
  {
   "cell_type": "code",
   "execution_count": 1,
   "id": "c9b463b8",
   "metadata": {},
   "outputs": [
    {
     "name": "stdout",
     "output_type": "stream",
     "text": [
      "['Whitney', 'Aretha']\n"
     ]
    }
   ],
   "source": [
    "singers = ['Whitney', 'Aretha', 'CeCe', 'JHud']\n",
    "candidates = []\n",
    "\n",
    "for each in singers:\n",
    "    if len(each) > 5:\n",
    "        candidates.append(each)\n",
    "\n",
    "print(candidates)"
   ]
  },
  {
   "cell_type": "code",
   "execution_count": null,
   "id": "72401abf",
   "metadata": {},
   "outputs": [],
   "source": []
  }
 ],
 "metadata": {
  "kernelspec": {
   "display_name": "Python 3",
   "language": "python",
   "name": "python3"
  },
  "language_info": {
   "codemirror_mode": {
    "name": "ipython",
    "version": 3
   },
   "file_extension": ".py",
   "mimetype": "text/x-python",
   "name": "python",
   "nbconvert_exporter": "python",
   "pygments_lexer": "ipython3",
   "version": "3.7.10"
  }
 },
 "nbformat": 4,
 "nbformat_minor": 5
}
